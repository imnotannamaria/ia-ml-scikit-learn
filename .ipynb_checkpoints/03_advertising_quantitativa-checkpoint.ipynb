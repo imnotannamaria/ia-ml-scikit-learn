{
 "cells": [
  {
   "cell_type": "markdown",
   "id": "8e92c57e-d0f0-42d7-bff9-3b047bcaac24",
   "metadata": {},
   "source": [
    "# Previsões quantitativas"
   ]
  },
  {
   "cell_type": "code",
   "execution_count": 17,
   "id": "cb9fc2b8-705b-4eff-859b-6a2286a0cfe3",
   "metadata": {},
   "outputs": [
    {
     "data": {
      "text/html": [
       "<div>\n",
       "<style scoped>\n",
       "    .dataframe tbody tr th:only-of-type {\n",
       "        vertical-align: middle;\n",
       "    }\n",
       "\n",
       "    .dataframe tbody tr th {\n",
       "        vertical-align: top;\n",
       "    }\n",
       "\n",
       "    .dataframe thead th {\n",
       "        text-align: right;\n",
       "    }\n",
       "</style>\n",
       "<table border=\"1\" class=\"dataframe\">\n",
       "  <thead>\n",
       "    <tr style=\"text-align: right;\">\n",
       "      <th></th>\n",
       "      <th>TV</th>\n",
       "      <th>Radio</th>\n",
       "      <th>Newspaper</th>\n",
       "      <th>Sales</th>\n",
       "    </tr>\n",
       "  </thead>\n",
       "  <tbody>\n",
       "    <tr>\n",
       "      <th>0</th>\n",
       "      <td>230.1</td>\n",
       "      <td>37.8</td>\n",
       "      <td>69.2</td>\n",
       "      <td>22.1</td>\n",
       "    </tr>\n",
       "    <tr>\n",
       "      <th>1</th>\n",
       "      <td>44.5</td>\n",
       "      <td>39.3</td>\n",
       "      <td>45.1</td>\n",
       "      <td>10.4</td>\n",
       "    </tr>\n",
       "    <tr>\n",
       "      <th>2</th>\n",
       "      <td>17.2</td>\n",
       "      <td>45.9</td>\n",
       "      <td>69.3</td>\n",
       "      <td>12.0</td>\n",
       "    </tr>\n",
       "    <tr>\n",
       "      <th>3</th>\n",
       "      <td>151.5</td>\n",
       "      <td>41.3</td>\n",
       "      <td>58.5</td>\n",
       "      <td>16.5</td>\n",
       "    </tr>\n",
       "    <tr>\n",
       "      <th>4</th>\n",
       "      <td>180.8</td>\n",
       "      <td>10.8</td>\n",
       "      <td>58.4</td>\n",
       "      <td>17.9</td>\n",
       "    </tr>\n",
       "  </tbody>\n",
       "</table>\n",
       "</div>"
      ],
      "text/plain": [
       "      TV  Radio  Newspaper  Sales\n",
       "0  230.1   37.8       69.2   22.1\n",
       "1   44.5   39.3       45.1   10.4\n",
       "2   17.2   45.9       69.3   12.0\n",
       "3  151.5   41.3       58.5   16.5\n",
       "4  180.8   10.8       58.4   17.9"
      ]
     },
     "execution_count": 17,
     "metadata": {},
     "output_type": "execute_result"
    }
   ],
   "source": [
    "import pandas as pd\n",
    "\n",
    "publi = pd.read_csv(\"Datasets/advertising.csv\")\n",
    "publi.head()"
   ]
  },
  {
   "cell_type": "code",
   "execution_count": 20,
   "id": "50d2bf86-b2dd-4e0a-8a80-e149b6e35c85",
   "metadata": {},
   "outputs": [
    {
     "name": "stdout",
     "output_type": "stream",
     "text": [
      "(200, 4)\n"
     ]
    }
   ],
   "source": [
    "print(publi.shape)"
   ]
  },
  {
   "cell_type": "markdown",
   "id": "9f8b42f8-a995-4a89-ad0e-333bfa5a4320",
   "metadata": {},
   "source": [
    "## Separando dados"
   ]
  },
  {
   "cell_type": "code",
   "execution_count": 18,
   "id": "237f76d2-7105-4c0d-8e17-842827ad878c",
   "metadata": {},
   "outputs": [],
   "source": [
    "x = publi[['TV', 'Radio', 'Newspaper']]\n",
    "y = publi['Sales']"
   ]
  },
  {
   "cell_type": "code",
   "execution_count": 19,
   "id": "162c3d14-81e9-4e35-a58c-952d03ec23d7",
   "metadata": {},
   "outputs": [
    {
     "data": {
      "text/plain": [
       "(200, 3)"
      ]
     },
     "execution_count": 19,
     "metadata": {},
     "output_type": "execute_result"
    }
   ],
   "source": [
    "x.shape"
   ]
  },
  {
   "cell_type": "code",
   "execution_count": 20,
   "id": "7d0ec73e-0f7f-4f1c-9312-fc3b3b8247e6",
   "metadata": {},
   "outputs": [
    {
     "data": {
      "text/plain": [
       "(200,)"
      ]
     },
     "execution_count": 20,
     "metadata": {},
     "output_type": "execute_result"
    }
   ],
   "source": [
    "y.shape"
   ]
  },
  {
   "cell_type": "markdown",
   "id": "dd43d8da-5e05-4eb3-a779-026e2254c13b",
   "metadata": {},
   "source": [
    "## Regressão Linear"
   ]
  },
  {
   "cell_type": "markdown",
   "id": "42def30d-8cc0-4074-9466-48ae67da5511",
   "metadata": {},
   "source": [
    "### Gerando o gráfico"
   ]
  },
  {
   "cell_type": "code",
   "execution_count": null,
   "id": "0dd4e8ea-bd02-4538-a694-d61f3c44f40b",
   "metadata": {},
   "outputs": [],
   "source": [
    "import seaborn as sns\n",
    "\n",
    "sns.pairplot(publi, x_vars=['TV', 'Radio', 'Newspaper'], y_vars='Sales', size=5, kind='reg')"
   ]
  },
  {
   "cell_type": "markdown",
   "id": "9a2b7154-8789-4080-98e0-74479749f46d",
   "metadata": {},
   "source": [
    "### Explicando argumentos do pairplot\n",
    "publi = dataset\n",
    "\n",
    "x_vars = variáveis independentes \n",
    "\n",
    "y_vars = variável dependente\n",
    "\n",
    "size = tamanho do gráfico\n",
    "\n",
    "kind = Modelo (Regressão Linear)"
   ]
  },
  {
   "cell_type": "markdown",
   "id": "9ae4044c-cd01-4f73-98fa-ace77f76e2ec",
   "metadata": {},
   "source": [
    "### Separando dados com skalearn"
   ]
  },
  {
   "cell_type": "code",
   "execution_count": 33,
   "id": "b06fcdc4-3534-4a41-9e9b-e7a3cca0f3b1",
   "metadata": {},
   "outputs": [],
   "source": [
    "from sklearn.model_selection import train_test_split \n",
    "\n",
    "x_train, x_test, y_train, y_test = train_test_split(x, y, test_size=0.3)"
   ]
  },
  {
   "cell_type": "markdown",
   "id": "716b2848-43f8-407c-8832-9fc779684432",
   "metadata": {},
   "source": [
    "### Importação do modelo de regressão linear"
   ]
  },
  {
   "cell_type": "code",
   "execution_count": 34,
   "id": "33f917ea-de6b-4a20-a3fe-e10abc219de7",
   "metadata": {},
   "outputs": [
    {
     "data": {
      "text/html": [
       "<style>#sk-container-id-1 {color: black;}#sk-container-id-1 pre{padding: 0;}#sk-container-id-1 div.sk-toggleable {background-color: white;}#sk-container-id-1 label.sk-toggleable__label {cursor: pointer;display: block;width: 100%;margin-bottom: 0;padding: 0.3em;box-sizing: border-box;text-align: center;}#sk-container-id-1 label.sk-toggleable__label-arrow:before {content: \"▸\";float: left;margin-right: 0.25em;color: #696969;}#sk-container-id-1 label.sk-toggleable__label-arrow:hover:before {color: black;}#sk-container-id-1 div.sk-estimator:hover label.sk-toggleable__label-arrow:before {color: black;}#sk-container-id-1 div.sk-toggleable__content {max-height: 0;max-width: 0;overflow: hidden;text-align: left;background-color: #f0f8ff;}#sk-container-id-1 div.sk-toggleable__content pre {margin: 0.2em;color: black;border-radius: 0.25em;background-color: #f0f8ff;}#sk-container-id-1 input.sk-toggleable__control:checked~div.sk-toggleable__content {max-height: 200px;max-width: 100%;overflow: auto;}#sk-container-id-1 input.sk-toggleable__control:checked~label.sk-toggleable__label-arrow:before {content: \"▾\";}#sk-container-id-1 div.sk-estimator input.sk-toggleable__control:checked~label.sk-toggleable__label {background-color: #d4ebff;}#sk-container-id-1 div.sk-label input.sk-toggleable__control:checked~label.sk-toggleable__label {background-color: #d4ebff;}#sk-container-id-1 input.sk-hidden--visually {border: 0;clip: rect(1px 1px 1px 1px);clip: rect(1px, 1px, 1px, 1px);height: 1px;margin: -1px;overflow: hidden;padding: 0;position: absolute;width: 1px;}#sk-container-id-1 div.sk-estimator {font-family: monospace;background-color: #f0f8ff;border: 1px dotted black;border-radius: 0.25em;box-sizing: border-box;margin-bottom: 0.5em;}#sk-container-id-1 div.sk-estimator:hover {background-color: #d4ebff;}#sk-container-id-1 div.sk-parallel-item::after {content: \"\";width: 100%;border-bottom: 1px solid gray;flex-grow: 1;}#sk-container-id-1 div.sk-label:hover label.sk-toggleable__label {background-color: #d4ebff;}#sk-container-id-1 div.sk-serial::before {content: \"\";position: absolute;border-left: 1px solid gray;box-sizing: border-box;top: 0;bottom: 0;left: 50%;z-index: 0;}#sk-container-id-1 div.sk-serial {display: flex;flex-direction: column;align-items: center;background-color: white;padding-right: 0.2em;padding-left: 0.2em;position: relative;}#sk-container-id-1 div.sk-item {position: relative;z-index: 1;}#sk-container-id-1 div.sk-parallel {display: flex;align-items: stretch;justify-content: center;background-color: white;position: relative;}#sk-container-id-1 div.sk-item::before, #sk-container-id-1 div.sk-parallel-item::before {content: \"\";position: absolute;border-left: 1px solid gray;box-sizing: border-box;top: 0;bottom: 0;left: 50%;z-index: -1;}#sk-container-id-1 div.sk-parallel-item {display: flex;flex-direction: column;z-index: 1;position: relative;background-color: white;}#sk-container-id-1 div.sk-parallel-item:first-child::after {align-self: flex-end;width: 50%;}#sk-container-id-1 div.sk-parallel-item:last-child::after {align-self: flex-start;width: 50%;}#sk-container-id-1 div.sk-parallel-item:only-child::after {width: 0;}#sk-container-id-1 div.sk-dashed-wrapped {border: 1px dashed gray;margin: 0 0.4em 0.5em 0.4em;box-sizing: border-box;padding-bottom: 0.4em;background-color: white;}#sk-container-id-1 div.sk-label label {font-family: monospace;font-weight: bold;display: inline-block;line-height: 1.2em;}#sk-container-id-1 div.sk-label-container {text-align: center;}#sk-container-id-1 div.sk-container {/* jupyter's `normalize.less` sets `[hidden] { display: none; }` but bootstrap.min.css set `[hidden] { display: none !important; }` so we also need the `!important` here to be able to override the default hidden behavior on the sphinx rendered scikit-learn.org. See: https://github.com/scikit-learn/scikit-learn/issues/21755 */display: inline-block !important;position: relative;}#sk-container-id-1 div.sk-text-repr-fallback {display: none;}</style><div id=\"sk-container-id-1\" class=\"sk-top-container\"><div class=\"sk-text-repr-fallback\"><pre>LinearRegression()</pre><b>In a Jupyter environment, please rerun this cell to show the HTML representation or trust the notebook. <br />On GitHub, the HTML representation is unable to render, please try loading this page with nbviewer.org.</b></div><div class=\"sk-container\" hidden><div class=\"sk-item\"><div class=\"sk-estimator sk-toggleable\"><input class=\"sk-toggleable__control sk-hidden--visually\" id=\"sk-estimator-id-1\" type=\"checkbox\" checked><label for=\"sk-estimator-id-1\" class=\"sk-toggleable__label sk-toggleable__label-arrow\">LinearRegression</label><div class=\"sk-toggleable__content\"><pre>LinearRegression()</pre></div></div></div></div></div>"
      ],
      "text/plain": [
       "LinearRegression()"
      ]
     },
     "execution_count": 34,
     "metadata": {},
     "output_type": "execute_result"
    }
   ],
   "source": [
    "from sklearn.linear_model import LinearRegression\n",
    "\n",
    "reglin = LinearRegression()\n",
    "reglin.fit(x_train, y_train)"
   ]
  },
  {
   "cell_type": "markdown",
   "id": "0a983bff-ab6e-44a8-bf3c-f8877b87d9e4",
   "metadata": {},
   "source": [
    "### Coeficientes: Aumento nas vendas"
   ]
  },
  {
   "cell_type": "code",
   "execution_count": 40,
   "id": "3095c759-2dd8-45d5-b9b3-253e4aab491d",
   "metadata": {},
   "outputs": [
    {
     "data": {
      "text/plain": [
       "[('TV', 0.05301927586473715),\n",
       " ('Radio', 0.11019091247733087),\n",
       " ('Newspaper', -0.0030130421148717515)]"
      ]
     },
     "execution_count": 40,
     "metadata": {},
     "output_type": "execute_result"
    }
   ],
   "source": [
    "list(zip(['TV', 'Radio', 'Newspaper'], reglin.coef_))"
   ]
  },
  {
   "cell_type": "markdown",
   "id": "e28e6ecb-549a-4c2c-ae33-f40f2ff58dbc",
   "metadata": {},
   "source": [
    "#### Explicação do coef_\n",
    "A cada X unidade investida (X dolares, X reais, etc) na TV (Radio ou Newspapper), tem um aumento desse valor."
   ]
  },
  {
   "cell_type": "markdown",
   "id": "88703397-d76e-4262-8223-71a025d3c3af",
   "metadata": {},
   "source": [
    "### Previsão"
   ]
  },
  {
   "cell_type": "code",
   "execution_count": 43,
   "id": "daf2c046-2525-4cb7-89de-5a7316055de3",
   "metadata": {},
   "outputs": [
    {
     "name": "stdout",
     "output_type": "stream",
     "text": [
      "[20.18170173 17.06974287 15.90632926 24.38338506 20.7520636  22.0263122\n",
      " 18.31574702 10.73344813  9.52273822 12.27429063 21.50089845 19.47367523\n",
      " 11.90166228 14.59221359 10.0940279  24.74277407  8.49084168  9.90355784\n",
      " 19.22326232 20.87700773 10.95769395 10.04456365 18.0710061  24.08761414\n",
      "  7.42065211 13.47026508 12.16675842 21.19467785  9.99969916 18.95809659\n",
      " 10.59927528 10.711711   10.12337603 11.04281333 21.40914645  9.34701768\n",
      " 17.21900452 15.97775304 16.64061743 10.81805335 18.81986385 17.06633005\n",
      " 17.09922273 15.78842872  9.3249352  18.86014292 13.92517785 24.91598547\n",
      "  9.65295131 14.45903607 10.98468246 11.58663003 24.83904958 16.78830505\n",
      " 12.68675058  8.20860539 23.36683287  8.17535095  6.4509768  18.98832578]\n"
     ]
    }
   ],
   "source": [
    "y_prev = reglin.predict(x_test)\n",
    "print(y_prev)"
   ]
  },
  {
   "cell_type": "markdown",
   "id": "90e9ebb5-4a0a-47f7-a115-5bfda5771b5b",
   "metadata": {},
   "source": [
    "### Avaliação de performance"
   ]
  },
  {
   "cell_type": "markdown",
   "id": "f83d9792-c7ab-4dec-b5ff-6bc8e45df004",
   "metadata": {},
   "source": [
    "Vamos fazer isso verificando o tamanho do erro do modelo, medir a distância da nossa previsão para os valores reais."
   ]
  },
  {
   "cell_type": "markdown",
   "id": "1d8243d2-3fd4-4fd1-b77e-b2f42787a859",
   "metadata": {},
   "source": [
    "#### MAE (Mean Absolute Error) | Média dos erros"
   ]
  },
  {
   "cell_type": "code",
   "execution_count": 46,
   "id": "669476aa-df56-4c43-9548-ed862d58bb81",
   "metadata": {},
   "outputs": [],
   "source": [
    "from sklearn import metrics"
   ]
  },
  {
   "cell_type": "code",
   "execution_count": 47,
   "id": "3e28560f-647d-48d4-9ecd-9a1d9e96967f",
   "metadata": {},
   "outputs": [
    {
     "name": "stdout",
     "output_type": "stream",
     "text": [
      "1.145611011477661\n"
     ]
    }
   ],
   "source": [
    "print(metrics.mean_absolute_error(y_test, y_prev))"
   ]
  },
  {
   "cell_type": "markdown",
   "id": "b0df3900-8e40-4f88-ba60-f44993b788dd",
   "metadata": {},
   "source": [
    "#### MSE (Mean Squared Error) | Eleva os erros ao quadrado"
   ]
  },
  {
   "cell_type": "markdown",
   "id": "f195df9d-4184-4604-b142-91e2d06720a6",
   "metadata": {},
   "source": [
    "Quando mais errar, mais peso vai dar pra isso. Ou seja, se tiver no meio uns errros muito grandes, isso vai ter um grande impacto na performance final do modelo."
   ]
  },
  {
   "cell_type": "code",
   "execution_count": 48,
   "id": "ebbdc301-4e18-4aa7-ae42-e019438aa575",
   "metadata": {},
   "outputs": [
    {
     "name": "stdout",
     "output_type": "stream",
     "text": [
      "2.6124201947898436\n"
     ]
    }
   ],
   "source": [
    "print(metrics.mean_squared_error(y_test, y_prev))"
   ]
  },
  {
   "cell_type": "markdown",
   "id": "98e2c336-911a-4e47-b299-724ec380d5a8",
   "metadata": {},
   "source": [
    "#### RMSE (Root Mean Squared Error) | MSE + Raiz quadrada"
   ]
  },
  {
   "cell_type": "code",
   "execution_count": 50,
   "id": "d9645b87-4475-49f3-bf78-4fde4eebf796",
   "metadata": {},
   "outputs": [
    {
     "name": "stdout",
     "output_type": "stream",
     "text": [
      "1.6162983000640208\n"
     ]
    }
   ],
   "source": [
    "import numpy as np\n",
    "\n",
    "print(np.sqrt(metrics.mean_squared_error(y_test, y_prev)))"
   ]
  }
 ],
 "metadata": {
  "kernelspec": {
   "display_name": "Python 3 (ipykernel)",
   "language": "python",
   "name": "python3"
  },
  "language_info": {
   "codemirror_mode": {
    "name": "ipython",
    "version": 3
   },
   "file_extension": ".py",
   "mimetype": "text/x-python",
   "name": "python",
   "nbconvert_exporter": "python",
   "pygments_lexer": "ipython3",
   "version": "3.11.3"
  }
 },
 "nbformat": 4,
 "nbformat_minor": 5
}
